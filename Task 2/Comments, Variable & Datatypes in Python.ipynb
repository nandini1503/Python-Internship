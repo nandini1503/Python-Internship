{
 "cells": [
  {
   "cell_type": "code",
   "execution_count": 15,
   "metadata": {},
   "outputs": [],
   "source": [
    "#Comments in python\n",
    "#This is a single line comments"
   ]
  },
  {
   "cell_type": "code",
   "execution_count": 5,
   "metadata": {},
   "outputs": [],
   "source": [
    "#Variables in Python\n",
    "a=10\n",
    "b=10.5\n",
    "c=\"nandini\""
   ]
  },
  {
   "cell_type": "code",
   "execution_count": 7,
   "metadata": {},
   "outputs": [
    {
     "name": "stdout",
     "output_type": "stream",
     "text": [
      "10\n"
     ]
    },
    {
     "data": {
      "text/plain": [
       "int"
      ]
     },
     "execution_count": 7,
     "metadata": {},
     "output_type": "execute_result"
    }
   ],
   "source": [
    "print(a)\n",
    "type(a)\n"
   ]
  },
  {
   "cell_type": "code",
   "execution_count": 8,
   "metadata": {},
   "outputs": [
    {
     "name": "stdout",
     "output_type": "stream",
     "text": [
      "10.5\n"
     ]
    },
    {
     "data": {
      "text/plain": [
       "float"
      ]
     },
     "execution_count": 8,
     "metadata": {},
     "output_type": "execute_result"
    }
   ],
   "source": [
    "print(b)\n",
    "type(b)"
   ]
  },
  {
   "cell_type": "code",
   "execution_count": 9,
   "metadata": {},
   "outputs": [
    {
     "name": "stdout",
     "output_type": "stream",
     "text": [
      "nandini\n"
     ]
    },
    {
     "data": {
      "text/plain": [
       "str"
      ]
     },
     "execution_count": 9,
     "metadata": {},
     "output_type": "execute_result"
    }
   ],
   "source": [
    "print(c)\n",
    "type(c)"
   ]
  },
  {
   "cell_type": "code",
   "execution_count": 11,
   "metadata": {},
   "outputs": [
    {
     "name": "stdout",
     "output_type": "stream",
     "text": [
      "nandini\n",
      "nandini patel\n"
     ]
    }
   ],
   "source": [
    "#Changing the value of Variable in Python\n",
    "name=\"nandini\"\n",
    "print(name)\n",
    "\n",
    "name=\"nandini patel\"\n",
    "print(name)"
   ]
  },
  {
   "cell_type": "code",
   "execution_count": 12,
   "metadata": {},
   "outputs": [
    {
     "name": "stdout",
     "output_type": "stream",
     "text": [
      "10\n",
      "10.5\n",
      "hello\n"
     ]
    }
   ],
   "source": [
    "#Assigning multiple values to multiple variables in python\n",
    "a, b, c = 10, 10.5, \"hello\"\n",
    "\n",
    "print(a)\n",
    "print(b)\n",
    "print(c)"
   ]
  },
  {
   "cell_type": "code",
   "execution_count": 13,
   "metadata": {},
   "outputs": [
    {
     "name": "stdout",
     "output_type": "stream",
     "text": [
      "value of a is : 10\n",
      "value of a is : 10\n",
      "value of a is : 10\n"
     ]
    }
   ],
   "source": [
    "#Assign the same value to multiple variable in python\n",
    "a = b = c = 10\n",
    "\n",
    "print(\"value of a is :\" ,a)\n",
    "print(\"value of a is :\" ,b)\n",
    "print(\"value of a is :\" ,c)"
   ]
  },
  {
   "cell_type": "code",
   "execution_count": 14,
   "metadata": {},
   "outputs": [
    {
     "name": "stdout",
     "output_type": "stream",
     "text": [
      "10 is <class 'int'>\n",
      "10.5 is <class 'float'>\n",
      "(1+2j) is <class 'complex'>\n"
     ]
    }
   ],
   "source": [
    "#Data types in python\n",
    "n1=10\n",
    "n2=10.5\n",
    "n3=1+2j\n",
    "\n",
    "print(n1, \"is\", type(n1))\n",
    "print(n2, \"is\", type(n2))\n",
    "print(n3, \"is\", type(n3))"
   ]
  },
  {
   "cell_type": "code",
   "execution_count": 17,
   "metadata": {},
   "outputs": [
    {
     "name": "stdout",
     "output_type": "stream",
     "text": [
      "nandini patel\n",
      "n\n",
      "ndi\n",
      "ndini patel\n",
      "nandini patelnandini patel\n",
      "Hello! nandini patel\n"
     ]
    }
   ],
   "source": [
    "#string in python\n",
    "name = \"nandini patel\"\n",
    "print(name)\n",
    "\n",
    "#prints first character of string\n",
    "print(name[0])\n",
    "\n",
    "#prints character starting from 3rd to 5th\n",
    "print(name[2:5])\n",
    "\n",
    "#print character from 3rd\n",
    "print(name[2:])\n",
    "\n",
    "#print character 2 times\n",
    "print(name *2)\n",
    "\n",
    "#concatenated string\n",
    "print(\"Hello! \" + name)"
   ]
  },
  {
   "cell_type": "code",
   "execution_count": 18,
   "metadata": {},
   "outputs": [
    {
     "name": "stdout",
     "output_type": "stream",
     "text": [
      "[10, 10.5, 'nandini']\n"
     ]
    }
   ],
   "source": [
    "#Lists\n",
    "l1 = [10, 10.5, 'nandini']\n",
    "print(l1)"
   ]
  },
  {
   "cell_type": "code",
   "execution_count": 19,
   "metadata": {},
   "outputs": [
    {
     "name": "stdout",
     "output_type": "stream",
     "text": [
      "[10, 20, 30, 'nandini', 40, 50, 'hello', 60]\n",
      "30\n",
      "[10, 20, 30]\n",
      "['nandini', 40, 50, 'hello', 60]\n"
     ]
    }
   ],
   "source": [
    "l2 = [10, 20, 30, 'nandini', 40, 50, 'hello', 60]\n",
    "print(l2)\n",
    "\n",
    "print(l2[2])\n",
    "print(l2[0:3])\n",
    "print(l2[3:])"
   ]
  },
  {
   "cell_type": "code",
   "execution_count": 20,
   "metadata": {},
   "outputs": [
    {
     "name": "stdout",
     "output_type": "stream",
     "text": [
      "(10, 10.5, 'nandini')\n"
     ]
    }
   ],
   "source": [
    "#Tuple\n",
    "t1 = (10, 10.5, 'nandini')\n",
    "print(t1)"
   ]
  },
  {
   "cell_type": "code",
   "execution_count": 26,
   "metadata": {},
   "outputs": [
    {
     "name": "stdout",
     "output_type": "stream",
     "text": [
      "(10, 20, 30, 'nandini', 40, 50, 'hello', 60)\n",
      "30\n",
      "(10, 20, 30)\n",
      "('nandini', 40, 50, 'hello', 60)\n"
     ]
    }
   ],
   "source": [
    "t2 = (10 , 20, 30, 'nandini', 40, 50,'hello', 60)\n",
    "print(t2)\n",
    "\n",
    "print(t2[2])\n",
    "print(t2[0:3])\n",
    "print(t2[3:])"
   ]
  },
  {
   "cell_type": "code",
   "execution_count": 24,
   "metadata": {},
   "outputs": [
    {
     "name": "stdout",
     "output_type": "stream",
     "text": [
      "<class 'dict'>\n"
     ]
    }
   ],
   "source": [
    "#Dictionary \n",
    "d1 = {1:'nandini', 2:'patel','hello':771}\n",
    "print(type(d1))"
   ]
  },
  {
   "cell_type": "code",
   "execution_count": 25,
   "metadata": {},
   "outputs": [
    {
     "name": "stdout",
     "output_type": "stream",
     "text": [
      "nandini\n",
      "patel\n",
      "771\n"
     ]
    }
   ],
   "source": [
    "print(d1[1])\n",
    "print(d1[2])\n",
    "print(d1['hello'])"
   ]
  },
  {
   "cell_type": "code",
   "execution_count": null,
   "metadata": {},
   "outputs": [],
   "source": []
  }
 ],
 "metadata": {
  "kernelspec": {
   "display_name": "Python 3",
   "language": "python",
   "name": "python3"
  },
  "language_info": {
   "codemirror_mode": {
    "name": "ipython",
    "version": 3
   },
   "file_extension": ".py",
   "mimetype": "text/x-python",
   "name": "python",
   "nbconvert_exporter": "python",
   "pygments_lexer": "ipython3",
   "version": "3.7.6"
  }
 },
 "nbformat": 4,
 "nbformat_minor": 4
}
