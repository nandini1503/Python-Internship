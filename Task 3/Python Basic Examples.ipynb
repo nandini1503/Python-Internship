{
 "cells": [
  {
   "cell_type": "code",
   "execution_count": 6,
   "metadata": {},
   "outputs": [
    {
     "name": "stdout",
     "output_type": "stream",
     "text": [
      "Enter number1 : 1\n",
      "Enter number2 : 2\n",
      "Enter number3 : 3\n",
      "Enter number4 : 4\n",
      "Enter number5 : 5\n",
      "Average is :  3.0\n"
     ]
    }
   ],
   "source": [
    "#1. Calculate average of 5 numbers.\n",
    "n1 = int(input('Enter number1 : '))\n",
    "n2 = int(input('Enter number2 : '))\n",
    "n3 = int(input('Enter number3 : '))\n",
    "n4 = int(input('Enter number4 : '))\n",
    "n5 = int(input('Enter number5 : '))\n",
    "\n",
    "avg = (n1+n2+n3+n4+n5)/5\n",
    "print(\"Average is : \",avg)\n"
   ]
  },
  {
   "cell_type": "code",
   "execution_count": 8,
   "metadata": {},
   "outputs": [
    {
     "name": "stdout",
     "output_type": "stream",
     "text": [
      "Enter number : 3\n",
      "3 is Odd\n"
     ]
    }
   ],
   "source": [
    "#2.Check whether number is even or odd.\n",
    "n1 = int(input(\"Enter number : \"))\n",
    "if(n1%2==0):\n",
    "    print(n1,  \"is Even\")\n",
    "else:\n",
    "    print(n1, \"is Odd\")"
   ]
  },
  {
   "cell_type": "code",
   "execution_count": 11,
   "metadata": {},
   "outputs": [
    {
     "name": "stdout",
     "output_type": "stream",
     "text": [
      "Enter year : 2004\n",
      "2004 is leap year\n"
     ]
    }
   ],
   "source": [
    "#3.Take a year and check whether it is leap year or not\n",
    "n2 = int(input(\"Enter year : \"))\n",
    "if(n2%4==0):\n",
    "    if(n2%100==0):\n",
    "        if(n2%400==0):\n",
    "            print(n2,\"is leap year\")\n",
    "        else:\n",
    "            print(n2,\"is not leap year\")\n",
    "    else:\n",
    "        print(n2,\"is leap year\")\n",
    "else:\n",
    "    print(n2,\"is not leap year\")\n",
    "    "
   ]
  },
  {
   "cell_type": "code",
   "execution_count": 15,
   "metadata": {},
   "outputs": [
    {
     "name": "stdout",
     "output_type": "stream",
     "text": [
      "Enter any number : -2\n",
      "-2 is negative\n"
     ]
    }
   ],
   "source": [
    "#4.Take a number and check whether it is zero, positive or negative.\n",
    "n3 = int(input(\"Enter any number : \"))\n",
    "if(n3==0):\n",
    "    print(n3,\"is zero\")\n",
    "elif(n3>0):\n",
    "    print(n3,\"is positive\")\n",
    "else:\n",
    "    print(n3,\"is negative\")"
   ]
  },
  {
   "cell_type": "code",
   "execution_count": 21,
   "metadata": {},
   "outputs": [
    {
     "name": "stdout",
     "output_type": "stream",
     "text": [
      "Enter 1st num :7\n",
      "Enter 2nd num :1\n",
      "7 is greatest\n"
     ]
    }
   ],
   "source": [
    "#5.Take 2 numbers and display greatest number. (Also check equal number condition)\n",
    "n4 = int(input(\"Enter 1st num :\"))\n",
    "n5 = int(input(\"Enter 2nd num :\"))\n",
    "if(n4==n5):\n",
    "    print(\"Both are equal\")\n",
    "elif(n4>n5):\n",
    "    print(n4,\"is greatest\")\n",
    "else:\n",
    "    print(n5,\"is greatest\")\n",
    "    "
   ]
  },
  {
   "cell_type": "code",
   "execution_count": 26,
   "metadata": {},
   "outputs": [
    {
     "name": "stdout",
     "output_type": "stream",
     "text": [
      "Enter num : 5\n",
      "Factorial is  120\n"
     ]
    }
   ],
   "source": [
    "#6.Take a number and find factorial of that number.\n",
    "n6 = int(input(\"Enter num : \"))\n",
    "fact = 1\n",
    "if(n6<0):\n",
    "    print(\"Factorial not exist\")\n",
    "elif(n6==0):\n",
    "    print(\"Factorial is 1\")\n",
    "else:\n",
    "    for i in range(1,n6+1):\n",
    "        fact = fact * i\n",
    "print(\"Factorial is \",fact)"
   ]
  },
  {
   "cell_type": "code",
   "execution_count": 29,
   "metadata": {},
   "outputs": [
    {
     "name": "stdout",
     "output_type": "stream",
     "text": [
      "n1 : 78\n",
      "n2 : 59\n",
      "After swaping :\n",
      "n1 = 59\n",
      "n2 = 78\n"
     ]
    }
   ],
   "source": [
    "#7.Write a program to swap 2 numbers using third variable.\n",
    "n1 = int(input(\"n1 : \"))\n",
    "n2 = int(input(\"n2 : \"))\n",
    "\n",
    "temp = n1\n",
    "n1 = n2\n",
    "n2 = temp\n",
    "print(\"After swaping :\")\n",
    "print(\"n1 =\",n1)\n",
    "print(\"n2 =\",n2)\n"
   ]
  },
  {
   "cell_type": "code",
   "execution_count": 31,
   "metadata": {},
   "outputs": [
    {
     "name": "stdout",
     "output_type": "stream",
     "text": [
      "Enter 1st num :5\n",
      "Enter 2nd num :2\n",
      "2 is smallest\n"
     ]
    }
   ],
   "source": [
    "#8.Take 2 numbers and find smallest number.\n",
    "n1 = int(input(\"Enter 1st num :\"))\n",
    "n2 = int(input(\"Enter 2nd num :\"))\n",
    "if(n1<n2):\n",
    "    print(n1,\"is smallest\")\n",
    "else:\n",
    "    print(n2,\"is smallest\")"
   ]
  },
  {
   "cell_type": "code",
   "execution_count": 35,
   "metadata": {},
   "outputs": [
    {
     "name": "stdout",
     "output_type": "stream",
     "text": [
      "Enter num : 58\n",
      "58 is less than 100 and is even\n"
     ]
    }
   ],
   "source": [
    "#9.Take a number check if a number is less than 100 or not.\n",
    "#  If it is less than 100 then check if it is odd or even.\n",
    "n1 = int(input(\"Enter num : \"))\n",
    "if(n1<100):\n",
    "    if(n1%2==0):\n",
    "        print(n1,\"is less than 100 and is even\")\n",
    "    else:\n",
    "        print(n1,\"is less than 100 and is odd\")\n",
    "else:\n",
    "    print(n1,\"is greater than 100\")"
   ]
  },
  {
   "cell_type": "code",
   "execution_count": 40,
   "metadata": {},
   "outputs": [
    {
     "name": "stdout",
     "output_type": "stream",
     "text": [
      "Enter num : 8\n",
      "Square is :  64\n"
     ]
    }
   ],
   "source": [
    "#10.Take a number to print the square of a number if it is less than 10.\n",
    "n1 = int(input(\"Enter num : \"))\n",
    "if(n1<10):\n",
    "    square = n1*n1\n",
    "    print(\"Square is : \",square)\n",
    "else:\n",
    "    print(\"Oops! it is greater than 10\")"
   ]
  },
  {
   "cell_type": "code",
   "execution_count": 43,
   "metadata": {},
   "outputs": [
    {
     "name": "stdout",
     "output_type": "stream",
     "text": [
      "Enter num : -5\n",
      "-5 is negative\n"
     ]
    }
   ],
   "source": [
    "#11.Take a number and check whether it is zero, positive or negative using nested IF…ELSE statement .\n",
    "n1 = int(input(\"Enter num : \"))\n",
    "if(n1>=0):\n",
    "    if(n1==0):\n",
    "        print(n1,\"is zero\")\n",
    "    else:\n",
    "        print(n1,\"is positive\")\n",
    "else:\n",
    "    print(n1,\"is negative\")"
   ]
  },
  {
   "cell_type": "code",
   "execution_count": 46,
   "metadata": {},
   "outputs": [
    {
     "name": "stdout",
     "output_type": "stream",
     "text": [
      "Enter num : 100\n",
      "Enter num : 64\n",
      "Enter num : 110\n",
      "110 is greatest\n"
     ]
    }
   ],
   "source": [
    "#12.Take 3 numbers and find greatest number using nested IF….ELSE statement.\n",
    "n1 = int(input(\"Enter num : \"))\n",
    "n2 = int(input(\"Enter num : \"))\n",
    "n3 = int(input(\"Enter num : \"))\n",
    "if(n1>n2):\n",
    "    if(n1>n3):\n",
    "        print(n1, \"is greatest\")\n",
    "    else:\n",
    "        print(n3,\"is greatest\")\n",
    "else:\n",
    "    if(n2>n3):\n",
    "        print(n2,\"is greatest\")\n",
    "    else:\n",
    "        print(n3,\"is greatest\")"
   ]
  },
  {
   "cell_type": "code",
   "execution_count": 47,
   "metadata": {},
   "outputs": [
    {
     "name": "stdout",
     "output_type": "stream",
     "text": [
      "Enter num : 0\n",
      "Enter num : 10\n",
      "Enter num : 56\n",
      "0 is smallest\n"
     ]
    }
   ],
   "source": [
    "#13.Take 3 numbers and find smallest number using logical operator.\n",
    "n1 = int(input(\"Enter num : \"))\n",
    "n2 = int(input(\"Enter num : \"))\n",
    "n3 = int(input(\"Enter num : \"))\n",
    "if(n1<n2) and (n1<n3):\n",
    "    print(n1,\"is smallest\")\n",
    "elif(n2<n3) and (n2<n1):\n",
    "    print(n2,\"is smallest\")\n",
    "else:\n",
    "    print(n3,\"is smallest\")"
   ]
  },
  {
   "cell_type": "code",
   "execution_count": 51,
   "metadata": {},
   "outputs": [
    {
     "name": "stdout",
     "output_type": "stream",
     "text": [
      "n1 : 99\n",
      "n2 : 56\n",
      "After Swapping :\n",
      "n1 :  56\n",
      "n2 :  99\n"
     ]
    }
   ],
   "source": [
    "#14.Write a program to swap 2 numbers without taking third variable.\n",
    "n1 = int(input(\"n1 : \"))\n",
    "n2 = int(input(\"n2 : \"))\n",
    "n1 = n1+n2\n",
    "n2 = n1-n2\n",
    "n1 = n1-n2\n",
    "print(\"After Swapping :\")\n",
    "print(\"n1 : \",n1)\n",
    "print(\"n2 : \",n2)"
   ]
  },
  {
   "cell_type": "code",
   "execution_count": 64,
   "metadata": {},
   "outputs": [
    {
     "name": "stdout",
     "output_type": "stream",
     "text": [
      "Starting number : 30\n",
      "Ending number : 0\n",
      "30\n",
      "27\n",
      "24\n",
      "21\n",
      "18\n",
      "15\n",
      "12\n",
      "9\n",
      "6\n",
      "3\n",
      "0\n"
     ]
    }
   ],
   "source": [
    "#15.Take starting number and ending number from the user and print following series.\n",
    "#seen in output\n",
    "n1 = int(input(\"Starting number : \"))\n",
    "n2 = int(input(\"Ending number : \"))\n",
    "for n1 in range(n1,n2-1,-3):\n",
    "    print(n1)"
   ]
  }
 ],
 "metadata": {
  "kernelspec": {
   "display_name": "Python 3",
   "language": "python",
   "name": "python3"
  },
  "language_info": {
   "codemirror_mode": {
    "name": "ipython",
    "version": 3
   },
   "file_extension": ".py",
   "mimetype": "text/x-python",
   "name": "python",
   "nbconvert_exporter": "python",
   "pygments_lexer": "ipython3",
   "version": "3.7.6"
  }
 },
 "nbformat": 4,
 "nbformat_minor": 4
}
