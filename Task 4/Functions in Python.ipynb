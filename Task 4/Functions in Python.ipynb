{
 "cells": [
  {
   "cell_type": "code",
   "execution_count": 1,
   "metadata": {},
   "outputs": [
    {
     "name": "stdout",
     "output_type": "stream",
     "text": [
      "Hello Nandini\n",
      "Hello Nandini\n",
      "Hello Nandini\n"
     ]
    }
   ],
   "source": [
    "#Functions in Python\n",
    "def my_function():\n",
    "    print(\"Hello Nandini\")\n",
    "\n",
    "my_function()\n",
    "my_function()\n",
    "my_function()"
   ]
  },
  {
   "cell_type": "code",
   "execution_count": 5,
   "metadata": {},
   "outputs": [
    {
     "name": "stdout",
     "output_type": "stream",
     "text": [
      "I am working on  Jupyter Notebook\n"
     ]
    }
   ],
   "source": [
    "#with Agrument\n",
    "def my_function(name):\n",
    "    print(\"I am working on \",name)\n",
    "\n",
    "my_function(\"Jupyter Notebook\")"
   ]
  },
  {
   "cell_type": "code",
   "execution_count": 6,
   "metadata": {},
   "outputs": [
    {
     "name": "stdout",
     "output_type": "stream",
     "text": [
      "Nandini\n"
     ]
    }
   ],
   "source": [
    "#with Return Statement\n",
    "def my_function(name):\n",
    "    return name\n",
    "\n",
    "name = my_function(\"Nandini\")\n",
    "print(name)"
   ]
  },
  {
   "cell_type": "code",
   "execution_count": 7,
   "metadata": {},
   "outputs": [
    {
     "name": "stdout",
     "output_type": "stream",
     "text": [
      "Name : Nandini\n",
      "Contact : 9879944235\n"
     ]
    }
   ],
   "source": [
    "#with multiple Return statements\n",
    "def my_function():\n",
    "    name = \"Nandini\"\n",
    "    contact = 9879944235\n",
    "    return name,contact\n",
    "\n",
    "name,contact = my_function()\n",
    "print(\"Name :\",name)\n",
    "print(\"Contact :\",contact)"
   ]
  },
  {
   "cell_type": "code",
   "execution_count": 8,
   "metadata": {},
   "outputs": [
    {
     "name": "stdout",
     "output_type": "stream",
     "text": [
      "30\n",
      "11\n"
     ]
    }
   ],
   "source": [
    "#with default agruments\n",
    "def sum(a=5,b=6):\n",
    "    print(a+b)\n",
    "    \n",
    "sum(10,20)\n",
    "sum()"
   ]
  },
  {
   "cell_type": "code",
   "execution_count": 9,
   "metadata": {},
   "outputs": [
    {
     "name": "stdout",
     "output_type": "stream",
     "text": [
      "sum is : 30\n"
     ]
    }
   ],
   "source": [
    "#keyword agruments\n",
    "def sum(a,b):\n",
    "    print(\"sum is :\",a+b)\n",
    "sum(b=10,a=20)"
   ]
  },
  {
   "cell_type": "code",
   "execution_count": 14,
   "metadata": {},
   "outputs": [
    {
     "name": "stdout",
     "output_type": "stream",
     "text": [
      "Sum : 30\n",
      "Sum : 60\n"
     ]
    }
   ],
   "source": [
    "#non keyword arguments\n",
    "def add(*num):\n",
    "    sum=0\n",
    "    for n in num:\n",
    "        sum = sum+n\n",
    "    print(\"Sum :\",sum)\n",
    "add(10,20)\n",
    "add(10,20,30)"
   ]
  },
  {
   "cell_type": "code",
   "execution_count": 15,
   "metadata": {},
   "outputs": [
    {
     "name": "stdout",
     "output_type": "stream",
     "text": [
      "Name Nandini\n",
      "Lastname Patel\n"
     ]
    }
   ],
   "source": [
    "#keyword arguments\n",
    "def my_fun(**arg):\n",
    "    for i,j in arg.items():\n",
    "        print(i,j)\n",
    "        \n",
    "my_fun(Name=\"Nandini\", Lastname=\"Patel\")"
   ]
  },
  {
   "cell_type": "code",
   "execution_count": 16,
   "metadata": {},
   "outputs": [
    {
     "name": "stdout",
     "output_type": "stream",
     "text": [
      "value inside function :  10\n",
      "value outside function :  20\n"
     ]
    }
   ],
   "source": [
    "#scope of variables\n",
    "def my_fun():\n",
    "    x = 10\n",
    "    print(\"value inside function : \",x)\n",
    "x =20\n",
    "my_fun()\n",
    "print(\"value outside function : \",x)"
   ]
  },
  {
   "cell_type": "code",
   "execution_count": 17,
   "metadata": {},
   "outputs": [
    {
     "name": "stdout",
     "output_type": "stream",
     "text": [
      "x + y = 16\n",
      "x - y = 4\n",
      "x * y = 60\n",
      "x / y = 1.6666666666666667\n",
      "x // y = 1\n",
      "x ** y = 1000000\n"
     ]
    }
   ],
   "source": [
    "#Arithmetic Operators\n",
    "x = 10\n",
    "y = 6\n",
    "print(\"x + y =\",x+y)\n",
    "print(\"x - y =\",x-y)\n",
    "print(\"x * y =\",x*y)\n",
    "print(\"x / y =\",x/y)\n",
    "print(\"x // y =\",x//y)\n",
    "print(\"x ** y =\",x**y)"
   ]
  },
  {
   "cell_type": "code",
   "execution_count": 18,
   "metadata": {},
   "outputs": [
    {
     "name": "stdout",
     "output_type": "stream",
     "text": [
      "x > y is True\n",
      "x < y is False\n",
      "x == y is False\n",
      "x != y is True\n",
      "x >= y is True\n",
      "x <= y is False\n"
     ]
    }
   ],
   "source": [
    "#Comparision operators\n",
    "x = 10\n",
    "y = 6\n",
    "print(\"x > y is\",x>y)\n",
    "print(\"x < y is\",x<y)\n",
    "print(\"x == y is\",x==y)\n",
    "print(\"x != y is\",x!=y)\n",
    "print(\"x >= y is\",x>=y)\n",
    "print(\"x <= y is\",x<=y)\n"
   ]
  },
  {
   "cell_type": "code",
   "execution_count": 19,
   "metadata": {},
   "outputs": [
    {
     "name": "stdout",
     "output_type": "stream",
     "text": [
      "30 is largest\n"
     ]
    }
   ],
   "source": [
    "#Logical Operators\n",
    "#using and operators\n",
    "n1=10\n",
    "n2=20\n",
    "n3=30\n",
    "if(n1>n2) and (n1>n3):\n",
    "    print(n1,\"is largest\")\n",
    "if(n2>n1) and (n2>n3):\n",
    "    print(n2,\"is largest\")\n",
    "else:\n",
    "    print(n3,\"is largest\")"
   ]
  },
  {
   "cell_type": "code",
   "execution_count": 21,
   "metadata": {},
   "outputs": [
    {
     "name": "stdout",
     "output_type": "stream",
     "text": [
      "Enter a character :a\n",
      "a is a vowel\n"
     ]
    }
   ],
   "source": [
    "#Logical Operators\n",
    "#or and operators\n",
    "ch = input(\"Enter a character :\")\n",
    "if(ch==\"A\" or ch==\"E\" or ch==\"I\" or ch==\"O\" or ch==\"U\" or\n",
    "  ch==\"a\" or ch==\"e\" or ch==\"i\" or ch==\"o\" or ch==\"u\" ):\n",
    "    print(ch, \"is a vowel\")\n",
    "else:\n",
    "    print(ch,\"is a consonant\")"
   ]
  },
  {
   "cell_type": "code",
   "execution_count": 22,
   "metadata": {},
   "outputs": [
    {
     "name": "stdout",
     "output_type": "stream",
     "text": [
      "True\n",
      "False\n",
      "True\n"
     ]
    }
   ],
   "source": [
    "#membership operators\n",
    "x = 10\n",
    "y = 6\n",
    "l1 = [10,20,30,40,50]\n",
    "print(x in l1)\n",
    "print(y in l1)\n",
    "print (y not in l1)"
   ]
  },
  {
   "cell_type": "code",
   "execution_count": 26,
   "metadata": {},
   "outputs": [
    {
     "name": "stdout",
     "output_type": "stream",
     "text": [
      "True\n",
      "False\n"
     ]
    }
   ],
   "source": [
    "#identity operators\n",
    "x = 20\n",
    "y = 20\n",
    "print(x is y)\n",
    "print(x is not y)"
   ]
  }
 ],
 "metadata": {
  "kernelspec": {
   "display_name": "Python 3",
   "language": "python",
   "name": "python3"
  },
  "language_info": {
   "codemirror_mode": {
    "name": "ipython",
    "version": 3
   },
   "file_extension": ".py",
   "mimetype": "text/x-python",
   "name": "python",
   "nbconvert_exporter": "python",
   "pygments_lexer": "ipython3",
   "version": "3.7.6"
  }
 },
 "nbformat": 4,
 "nbformat_minor": 4
}
